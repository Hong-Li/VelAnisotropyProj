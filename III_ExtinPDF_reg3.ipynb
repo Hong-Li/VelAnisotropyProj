{
 "cells": [
  {
   "cell_type": "code",
   "execution_count": 3,
   "metadata": {
    "collapsed": false
   },
   "outputs": [],
   "source": [
    "%matplotlib inline\n",
    "#%pdb\n",
    "from astropy.io import votable as vo\n",
    "from astropy.io import ascii, fits\n",
    "import aplpy as ap\n",
    "import numpy as np\n",
    "import matplotlib as mpl\n",
    "import matplotlib.pyplot as plt\n",
    "import scipy as sp\n",
    "import os\n",
    "import time\n",
    "from astropy import units as u\n",
    "import astropy.coordinates as coords\n",
    "import scipy\n",
    "from scipy import ndimage\n",
    "import re\n",
    "import pyregion\n",
    "import shutil\n",
    "#import montage_wrapper as mt\n",
    "from astropy.table import Table, Column, vstack, join\n",
    "from scipy.optimize import curve_fit\n",
    "from IPython.display import clear_output\n",
    "from spectral_cube import SpectralCube as sc\n",
    "from scipy.ndimage import rotate\n",
    "import pyspeckit\n",
    "from lmfit.models import GaussianModel, LinearModel\n",
    "import matplotlib.patheffects as path_effects\n",
    "\n",
    "mpl.rc(\"font\", family=\"serif\", size=15, weight=2)\n",
    "mpl.rc(\"axes\", linewidth = 2.0)\n",
    "mpl.rc(\"lines\", linewidth = 1.0)\n",
    "mpl.rc(\"xtick.major\", pad = 5, width = 1)\n",
    "mpl.rc(\"ytick.major\", pad = 5, width = 1)\n",
    "mpl.rc(\"xtick.minor\", width = 1)\n",
    "mpl.rc(\"ytick.minor\", width = 1)\n",
    "mpl.rcParams['xtick.direction'] = 'in'\n",
    "mpl.rcParams['ytick.direction'] = 'in'\n",
    "\n",
    "import astropy.units as u\n",
    "from spectral_cube import SpectralCube as Spcube\n",
    "import numpy as np\n",
    "from pvextractor import Path\n",
    "from scipy.optimize import curve_fit"
   ]
  },
  {
   "cell_type": "code",
   "execution_count": 8,
   "metadata": {
    "collapsed": true
   },
   "outputs": [],
   "source": [
    "extinmap = 'ExtinMap/im_fits/taurus/'\n",
    "sour_name = 'taurus'\n",
    "extinpdf = 'extinPDF/'"
   ]
  },
  {
   "cell_type": "code",
   "execution_count": 56,
   "metadata": {
    "collapsed": false
   },
   "outputs": [
    {
     "name": "stderr",
     "output_type": "stream",
     "text": [
      "using a non-integer number instead of an integer will result in an error in the future\n",
      "using a non-integer number instead of an integer will result in an error in the future\n",
      "using a non-integer number instead of an integer will result in an error in the future\n",
      "using a non-integer number instead of an integer will result in an error in the future\n"
     ]
    }
   ],
   "source": [
    "pdf_data = 0\n",
    "pdf_fit = 1\n",
    "\n",
    "hdu = fits.open(extinmap+sour_name+'_extin.fits')\n",
    "data = hdu[0].data\n",
    "for reg in ['reg1','reg2','reg3','reg4']:\n",
    "    if (reg=='reg1'):\n",
    "        bcx,bcy,bwx,bwy=296,216,92,74\n",
    "        dataNew = data[bcy-bwy/2:bcy+bwy/2,bcx-bwx/2:bcx+bwx/2]\n",
    "    elif (reg=='reg2'):\n",
    "        bcx,bcy,bwx,bwy=242,160,94,62\n",
    "        dataNew = data[bcy-bwy/2:bcy+bwy/2,bcx-bwx/2:bcx+bwx/2]\n",
    "    elif (reg=='reg3'):\n",
    "        bcx,bcy,bwx,bwy=157,144,122,92\n",
    "        dataNew = data[bcy-bwy/2:bcy+bwy/2,bcx-bwx/2:bcx+bwx/2]\n",
    "    elif (reg=='reg4'):\n",
    "        bcx,bcy,bwx,bwy=208,87,162,64\n",
    "        dataNew = data[bcy-bwy/2:bcy+bwy/2,bcx-bwx/2:bcx+bwx/2]\n",
    "    \n",
    "    FlatData = dataNew.flat\n",
    "    arrData = np.array(FlatData)\n",
    "    tbl = Table([arrData])\n",
    "    tbl['col0'].name = 'AV'\n",
    "    tbl.write(extinpdf+reg+'_pdf_para.tbl',format = 'ascii.fixed_width',\n",
    "    formats = {'AV':'%8.3e'}, delimiter=None,overwrite=True)\n"
   ]
  },
  {
   "cell_type": "code",
   "execution_count": 65,
   "metadata": {
    "collapsed": false
   },
   "outputs": [
    {
     "name": "stdout",
     "output_type": "stream",
     "text": [
      "alpha = 1.52\n"
     ]
    },
    {
     "data": {
      "text/plain": [
       "<matplotlib.text.Text at 0x126a90208>"
      ]
     },
     "execution_count": 65,
     "metadata": {},
     "output_type": "execute_result"
    },
    {
     "data": {
      "image/png": "[encoded data removed]",
      "text/plain": [
       "<matplotlib.figure.Figure at 0x12697ee10>"
      ]
     },
     "metadata": {},
     "output_type": "display_data"
    }
   ],
   "source": [
    "from lmfit import  Model\n",
    "Mean_env = 1.2*0.94e21 # conversion from Av to NH2\n",
    "for reg in ['reg2']:\n",
    "    fig = plt.figure(1, figsize=(12, 8))\n",
    "    ax1 = fig.add_subplot(111)\n",
    "    ax1.minorticks_on()\n",
    "    ax2 = ax1.twiny()\n",
    "    ax2.minorticks_on()\n",
    "    figname = extinpdf+reg+'_pdf.eps'\n",
    "    data = ascii.read(extinpdf+reg+'_pdf_para.tbl')\n",
    "    dat = data['AV'].data*0.94e21\n",
    "    index = np.where(dat>0)\n",
    "    x = dat[index]\n",
    "    x = np.array(np.log(x/Mean_env))\n",
    "    print (len(x))\n",
    "    bin_numb = 60\n",
    "    numb, bin_edges, patches = ax1.hist(x, \n",
    "        bins=bin_numb, edgecolor='black', facecolor = 'gray',\n",
    "        alpha = 1,normed=False)\n",
    "\n",
    "    #the errors derived from the poisson distribution\n",
    "    numb_err =  np.sqrt(numb)\n",
    "\n",
    "    #determing the fraction of the number within each bin\n",
    "    frac = numb/np.sum(numb)\n",
    "    frac_err = numb_err/np.sum(numb)\n",
    "\n",
    "    #determing the bin center\n",
    "    bin_centers = 0.5*(bin_edges[1:]+bin_edges[:-1])\n",
    "    \n",
    "    #ensuring the value at each bin above 0\n",
    "    index = np.where((frac>0) & (frac<1))\n",
    "    frac = frac[index]\n",
    "    frac_err = frac_err[index]\n",
    "    bin_all=np.array(bin_centers)\n",
    "    bin_all= bin_all[index]\n",
    "    \n",
    "    ax1.clear()\n",
    "    ax1.set_yscale('log')\n",
    "    #ax1.set_xlim(-3.0,3.5)\n",
    "    #ax1.set_ylim(1e-6,1.0)\n",
    "    #print bin_all, frac\n",
    "    #ax1.plot(bin_all,frac)\n",
    "    ax1.errorbar(bin_all,frac,frac_err,drawstyle='steps-mid')#,label=label\n",
    "    #legend = plt.legend(loc='upper right', shadow=False, fontsize='large')\n",
    "    #plt.tick_params(axis = 'both', which = 'major' ,length = 10, width = 2,size = 14)\n",
    "    #plt.tick_params(axis = 'both', which = 'minor' ,length = 5, width = 2, size = 7)\n",
    "    \n",
    "\n",
    "    def tick_function(var):\n",
    "        AV = np.exp(var)*Mean_env/0.94e21   # Bohlin et al. (1978)\n",
    "        return [\"%.1f\" % z for z in AV]\n",
    "    #bin_NH2 = np.exp(bin_all)*Mean_env\n",
    "\n",
    "    ax1Ticks = ax1.get_xticks()   \n",
    "    ax2Ticks = ax1Ticks\n",
    "    ax2.set_xticks(ax2Ticks)\n",
    "    ax2.set_xbound(ax1.get_xbound())\n",
    "    ax2.set_xticklabels(tick_function(ax2Ticks))\n",
    "    ax2.set_xlabel('Av [mag]')\n",
    "    ax1.grid(True)\n",
    "\n",
    "    #do log-normal fit\n",
    "    # determin the bin range with log normal distriution\n",
    "    index =  np.where(bin_all<=1.0)\n",
    "    bin_logn = bin_all[index]\n",
    "    frac_logn = frac[index]\n",
    "    ferr_logn = frac_err[index]\n",
    "    \n",
    "    #single-peaked lognormal expreasion\n",
    "    def logpdf_1peak(x, p1,mu1, sigma1):\n",
    "        a1 = p1/(sigma1*np.sqrt(2*np.pi) )\n",
    "        b1 = -(x-mu1)**2/(2*sigma1**2)\n",
    "        p = a1*np.exp(b1)\n",
    "        return p\n",
    "    \n",
    "    p1 = frac_logn.max()\n",
    "    mu1 = bin_logn[np.where(frac_logn==p1)]\n",
    "    mu1 = mu1[0]\n",
    "    sigma1 = 0.01\n",
    "    fmodel = Model(logpdf_1peak)\n",
    "    pars = fmodel.make_params()\n",
    "    pars['p1'].set(p1,min=0.0,max=1.0)\n",
    "    pars['mu1'].set(mu1,min=0,max=1)\n",
    "    pars['sigma1'].set(sigma1,min=0.0)\n",
    "   \n",
    "#   #init = fmodel.eval(pars,x=xx)\n",
    "    result = fmodel.fit(frac_logn,pars,x=bin_logn,p1=p1,mu1=mu1,sigma1=sigma1)   \n",
    "    print(result.fit_report())\n",
    "   \n",
    "   \n",
    "#     #plt.plot(xx, result.init_fit, 'k--')\n",
    "    #ax1.plot(bin_logn, result.best_fit, 'blue',linewidth=1)\n",
    "    #plot the fitting \n",
    "    yfit1p_I = logpdf_1peak(bin_all,result.params['p1'].value,result.params['mu1'].value,result.params['sigma1'].value)\n",
    "    ax1.plot(bin_all,yfit1p_I,'b--')\n",
    "\n",
    "    #plt.show()\n",
    "    #ax.xlabel(r'$\\phi$')\n",
    "    #ax.ylabel('$SF_{L}(\\phi)$')\n",
    "    ax1.set_ylim(10e-5,1)\n",
    "    xmin,xmax = ax1.get_xlim()\n",
    "    ymin,ymax = ax1.get_ylim()   \n",
    "    #ax.tick_params(axis = 'both', which = 'major' ,length = 10, width = 1)\n",
    "    #ax.tick_params(axis = 'both', which = 'minor' ,length = 5, width = 1)\n",
    "    \n",
    "    ax1.set_xlabel(r'ln'+r'($N_{H_{2}}$/$\\overline{N_{H_{2}}})$')\n",
    "    ax1.set_ylabel('Probability')\n",
    "\n",
    "    #do powerlaw fit\n",
    "    #determine the bin range following the power law\n",
    "    index =  np.where((bin_all>=1.0))#&(bin_all<=2.2)\n",
    "    bin_pl = bin_all[index]\n",
    "    frac_pl = frac[index]\n",
    "    ferr_pl = frac_err[index]\n",
    "\n",
    "    #define the powler law expression, referting to Tremblin et al. 2014, A&A, 564, A106\n",
    "    def pl_func(x, a,n):\n",
    "        pl = a*np.exp(n*x)\n",
    "        return pl\n",
    "\n",
    "    p, cov = curve_fit(pl_func, bin_pl, frac_pl,p0=None,sigma=ferr_pl,maxfev = 10000)\n",
    "    yfit_pl = pl_func(bin_pl,p[0],p[1])\n",
    "    \n",
    "    ax1.plot(bin_pl,yfit_pl,'r-')\n",
    "    \n",
    "    fig.savefig(figname,bbox_inches = 'tight',papertype='a2')\n",
    "    clear_output()\n",
    "    print (\"alpha = %4.2f\"%(-2.0/p[1]+1.0))\n",
    "    label = r'($\\rho\\propto r^{\\alpha},\\alpha=%.2f$)'%(-2.0/p[1]+1.0)\n",
    "    plt.text(xmax-(xmax-xmin)*0.25, \n",
    "            ymax-(ymax-ymin)*0.40, label,\n",
    "            horizontalalignment='left',size = 17,color='red')\n",
    "    #fig.clear()"
   ]
  },
  {
   "cell_type": "code",
   "execution_count": null,
   "metadata": {
    "collapsed": true
   },
   "outputs": [],
   "source": []
  }
 ],
 "metadata": {
  "kernelspec": {
   "display_name": "Python 3",
   "language": "python",
   "name": "python3"
  },
  "language_info": {
   "codemirror_mode": {
    "name": "ipython",
    "version": 3
   },
   "file_extension": ".py",
   "mimetype": "text/x-python",
   "name": "python",
   "nbconvert_exporter": "python",
   "pygments_lexer": "ipython3",
   "version": "3.6.0"
  }
 },
 "nbformat": 4,
 "nbformat_minor": 2
}
